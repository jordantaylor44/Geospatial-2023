{
 "cells": [
  {
   "cell_type": "markdown",
   "id": "3866943c-2842-4efa-b510-8f4fc34615ee",
   "metadata": {
    "jp-MarkdownHeadingCollapsed": true,
    "tags": []
   },
   "source": [
    "# Jordan Taylor"
   ]
  },
  {
   "cell_type": "markdown",
   "id": "0c35c17c-b390-4dfa-b3b1-fac829b17220",
   "metadata": {
    "tags": []
   },
   "source": [
    "# Problem 2.1"
   ]
  },
  {
   "cell_type": "code",
   "execution_count": 22,
   "id": "930a9917-1866-4f9e-bd1a-a802c9a29919",
   "metadata": {},
   "outputs": [
    {
     "data": {
      "text/plain": [
       "8.5"
      ]
     },
     "execution_count": 22,
     "metadata": {},
     "output_type": "execute_result"
    }
   ],
   "source": [
    "icecream_rating = 9\n",
    "sleeping_rating = 8\n",
    "firstname = 'Jordan'\n",
    "\n",
    "happiness = ((icecream_rating + sleeping_rating) / 2)\n",
    "happiness"
   ]
  },
  {
   "cell_type": "code",
   "execution_count": 17,
   "id": "40aaf198-2b8c-4aa2-b980-87a14cf5f3e8",
   "metadata": {},
   "outputs": [
    {
     "data": {
      "text/plain": [
       "int"
      ]
     },
     "execution_count": 17,
     "metadata": {},
     "output_type": "execute_result"
    }
   ],
   "source": [
    "type(icecream_rating)"
   ]
  },
  {
   "cell_type": "code",
   "execution_count": 18,
   "id": "f9ea08ec-86d4-467d-9b8a-3c038d408dc8",
   "metadata": {},
   "outputs": [
    {
     "data": {
      "text/plain": [
       "int"
      ]
     },
     "execution_count": 18,
     "metadata": {},
     "output_type": "execute_result"
    }
   ],
   "source": [
    "type(sleeping_rating)"
   ]
  },
  {
   "cell_type": "code",
   "execution_count": 21,
   "id": "f32995ef-f2a4-4844-8f22-f0d12826379e",
   "metadata": {},
   "outputs": [
    {
     "data": {
      "text/plain": [
       "float"
      ]
     },
     "execution_count": 21,
     "metadata": {},
     "output_type": "execute_result"
    }
   ],
   "source": [
    "type(happiness)"
   ]
  },
  {
   "cell_type": "code",
   "execution_count": 37,
   "id": "25a39a6f-e228-4c2a-8533-120b0d081d63",
   "metadata": {},
   "outputs": [
    {
     "name": "stdout",
     "output_type": "stream",
     "text": [
      "My name is Jordan and I give eating ice cream a score of 9 out of 10!\n",
      "My sleeping enjoyment rating is 8 / 10!\n",
      "Based on the factors above, my happiness rating is 8.5 out of 10 or 85.0 %!\n"
     ]
    }
   ],
   "source": [
    "print('My name is', first_name, \n",
    "      'and I give eating ice cream a score of', icecream_rating, 'out of 10!')\n",
    "print('My sleeping enjoyment rating is', sleeping_rating, '/ 10!')\n",
    "print('Based on the factors above, my happiness rating is', happiness, 'out of 10 or',\n",
    "      happiness*10, '%!')"
   ]
  },
  {
   "cell_type": "markdown",
   "id": "b0e3a860-d2a5-4db0-a4bf-309599d89dc7",
   "metadata": {},
   "source": [
    "* For the data types: icecream_rating and sleep_rating are integers since they are single digit numbers and happiness is a float since it has a decimal."
   ]
  },
  {
   "cell_type": "markdown",
   "id": "b310fe42-56c5-4904-884f-14b61d1e4917",
   "metadata": {},
   "source": [
    "# Problem 2.2"
   ]
  },
  {
   "cell_type": "code",
   "execution_count": 78,
   "id": "442c1881-e438-4a80-9338-417d92f31b2e",
   "metadata": {},
   "outputs": [],
   "source": [
    "fmi_station_name = [\"lighthouse\",\n",
    "                    \"Harmaja\",\n",
    "                    \"Suomenlinna aatlopoiju\",\n",
    "                    \"Kumpula\",\n",
    "                    \"Kaisaniemi\"\n",
    "                   ]\n",
    "\n",
    "first_year = [\"2003\", \"1989\", \"2016\", \"2005\", \"1844\"]"
   ]
  },
  {
   "cell_type": "code",
   "execution_count": 80,
   "id": "958d5b11-fe96-439a-b529-158fc49e7109",
   "metadata": {},
   "outputs": [],
   "source": [
    "fmi_station_name.append('Malmi airfield')\n",
    "fmi_station_name.append('Vuosaari harbour')\n",
    "fmi_station_name.append('Kaivopuisto')\n",
    "\n",
    "first_year.append('1937')\n",
    "first_year.append('2012')\n",
    "first_year.append('1904')"
   ]
  },
  {
   "cell_type": "code",
   "execution_count": 81,
   "id": "ffb039a6-3b6b-45a5-baad-b833ef07bcb2",
   "metadata": {},
   "outputs": [
    {
     "data": {
      "text/plain": [
       "['lighthouse',\n",
       " 'Harmaja',\n",
       " 'Suomenlinna aatlopoiju',\n",
       " 'Kumpula',\n",
       " 'Kaisaniemi',\n",
       " 'Malmi airfield',\n",
       " 'Vuosaari harbour',\n",
       " 'Kaivopuisto']"
      ]
     },
     "execution_count": 81,
     "metadata": {},
     "output_type": "execute_result"
    }
   ],
   "source": [
    "fmi_station_name"
   ]
  },
  {
   "cell_type": "code",
   "execution_count": 82,
   "id": "9aa8a088-9f49-4671-bc94-fc371dcd27b6",
   "metadata": {},
   "outputs": [
    {
     "data": {
      "text/plain": [
       "['2003', '1989', '2016', '2005', '1844', '1937', '2012', '1904']"
      ]
     },
     "execution_count": 82,
     "metadata": {},
     "output_type": "execute_result"
    }
   ],
   "source": [
    "first_year"
   ]
  },
  {
   "cell_type": "code",
   "execution_count": 99,
   "id": "5a309111-986a-460c-9c32-102857ffd855",
   "metadata": {},
   "outputs": [
    {
     "data": {
      "text/plain": [
       "[('lighthouse', '2003'),\n",
       " ('Harmaja', '1989'),\n",
       " ('Suomenlinna aatlopoiju', '2016'),\n",
       " ('Kumpula', '2005'),\n",
       " ('Kaisaniemi', '1844'),\n",
       " ('Malmi airfield', '1937'),\n",
       " ('Vuosaari harbour', '2012'),\n",
       " ('Kaivopuisto', '1904')]"
      ]
     },
     "execution_count": 99,
     "metadata": {},
     "output_type": "execute_result"
    }
   ],
   "source": [
    "# using zip() to group the fmi station name and first year of operation columns\n",
    "# and sort in parallel (link below)\n",
    "# https://realpython.com/python-zip-function/#sorting-in-parallel\n",
    "\n",
    "group1 = (zip(fmi_station_name, first_year))\n",
    "\n",
    "list(group1)"
   ]
  },
  {
   "cell_type": "code",
   "execution_count": 106,
   "id": "219d52ef-f064-49b4-ad03-f1c5e5fe192a",
   "metadata": {},
   "outputs": [
    {
     "data": {
      "text/plain": [
       "[('1844', 'Kaisaniemi'),\n",
       " ('1904', 'Kaivopuisto'),\n",
       " ('1937', 'Malmi airfield'),\n",
       " ('1989', 'Harmaja'),\n",
       " ('2003', 'lighthouse'),\n",
       " ('2005', 'Kumpula'),\n",
       " ('2012', 'Vuosaari harbour'),\n",
       " ('2016', 'Suomenlinna aatlopoiju')]"
      ]
     },
     "execution_count": 106,
     "metadata": {},
     "output_type": "execute_result"
    }
   ],
   "source": [
    "# properly sorted by year\n",
    "group1 = sorted(zip(first_year, fmi_station_name))\n",
    "group1"
   ]
  },
  {
   "cell_type": "markdown",
   "id": "19ee2f5d-c62c-4e8d-b992-b1630e48b0fd",
   "metadata": {},
   "source": [
    "# Problem 2.3"
   ]
  },
  {
   "cell_type": "code",
   "execution_count": 116,
   "id": "0339dfbf-9eae-49d1-88c2-f53eeffd746f",
   "metadata": {},
   "outputs": [],
   "source": [
    "month = [\"January\",\n",
    "         \"February\",\n",
    "         \"March\",\n",
    "         \"April\",\n",
    "         \"May\",\n",
    "         \"June\",\n",
    "         \"July\",\n",
    "         \"August\",\n",
    "         \"September\",\n",
    "         \"October\",\n",
    "         \"November\",\n",
    "         \"December\"\n",
    "        ]\n",
    "\n",
    "temperature = [\"-3.5\",\n",
    "               \"-4.5\",\n",
    "               \"-1.0\",\n",
    "               \"4.0\",\n",
    "               \"10.0\",\n",
    "               \"15.0\",\n",
    "               \"18.0\",\n",
    "               \"16.0\",\n",
    "               \"11.5\",\n",
    "               \"6.0\",\n",
    "               \"2.0\",\n",
    "               \"-1.5\"\n",
    "              ]"
   ]
  },
  {
   "cell_type": "code",
   "execution_count": 117,
   "id": "bbcaded1-f40e-4f91-8ae9-f9b9b2b42598",
   "metadata": {},
   "outputs": [
    {
     "name": "stdout",
     "output_type": "stream",
     "text": [
      "The average temperature in Helsinki in March is -1.0\n"
     ]
    }
   ],
   "source": [
    "print('The average temperature in Helsinki in', month[2],\n",
    "      'is', temperature[2])"
   ]
  },
  {
   "cell_type": "markdown",
   "id": "a986d357-123e-46ed-9a46-d7c7847e26ff",
   "metadata": {},
   "source": [
    "# Problem 2.4"
   ]
  },
  {
   "cell_type": "code",
   "execution_count": 24,
   "id": "e598181d-a8c5-4121-821f-4cb5b835e9d0",
   "metadata": {},
   "outputs": [],
   "source": [
    "station_numbers = []"
   ]
  },
  {
   "cell_type": "code",
   "execution_count": 25,
   "id": "ccda383d-ee51-4185-bb3d-48aa901716c0",
   "metadata": {},
   "outputs": [
    {
     "name": "stdout",
     "output_type": "stream",
     "text": [
      "['Station_0.txt', 'Station_1.txt', 'Station_2.txt', 'Station_3.txt', 'Station_4.txt', 'Station_5.txt', 'Station_6.txt', 'Station_7.txt', 'Station_8.txt', 'Station_9.txt', 'Station_10.txt', 'Station_11.txt', 'Station_12.txt', 'Station_13.txt', 'Station_14.txt', 'Station_15.txt', 'Station_16.txt', 'Station_17.txt', 'Station_18.txt', 'Station_19.txt', 'Station_20.txt']\n"
     ]
    }
   ],
   "source": [
    "for i in range(0,21,1):\n",
    "    station_number=f\"Station_{i}.txt\"\n",
    "    station_numbers.append(station_number)\n",
    "print(station_numbers)\n",
    "    "
   ]
  },
  {
   "cell_type": "code",
   "execution_count": 32,
   "id": "06f326ec-663d-41ac-a50e-1b96e4779c84",
   "metadata": {},
   "outputs": [],
   "source": [
    "#reworked solution:\n"
   ]
  },
  {
   "cell_type": "code",
   "execution_count": 33,
   "id": "016826b5-ce05-4b38-a0f9-6f6aa4863220",
   "metadata": {},
   "outputs": [],
   "source": [
    "station_nums = []"
   ]
  },
  {
   "cell_type": "code",
   "execution_count": 34,
   "id": "b6971b54-9dd9-4d03-a83b-453626f1e0cd",
   "metadata": {},
   "outputs": [
    {
     "name": "stdout",
     "output_type": "stream",
     "text": [
      "Station_0.txt\n",
      "Station_1.txt\n",
      "Station_2.txt\n",
      "Station_3.txt\n",
      "Station_4.txt\n",
      "Station_5.txt\n",
      "Station_6.txt\n",
      "Station_7.txt\n",
      "Station_8.txt\n",
      "Station_9.txt\n",
      "Station_10.txt\n",
      "Station_11.txt\n",
      "Station_12.txt\n",
      "Station_13.txt\n",
      "Station_14.txt\n",
      "Station_15.txt\n",
      "Station_16.txt\n",
      "Station_17.txt\n",
      "Station_18.txt\n",
      "Station_19.txt\n",
      "Station_20.txt\n"
     ]
    }
   ],
   "source": [
    "\n",
    "for i in range(0,21,1):\n",
    "    station_num=f\"Station_{i}.txt\"\n",
    "    print(station_num)\n",
    "    "
   ]
  },
  {
   "cell_type": "code",
   "execution_count": 35,
   "id": "c32a70dd-fa09-4fa6-86f2-166b5f14e356",
   "metadata": {},
   "outputs": [],
   "source": [
    "# I missed a point for 2.4, is the alternate solution above what you're looking for?"
   ]
  }
 ],
 "metadata": {
  "kernelspec": {
   "display_name": "Python 3 (ipykernel)",
   "language": "python",
   "name": "python3"
  },
  "language_info": {
   "codemirror_mode": {
    "name": "ipython",
    "version": 3
   },
   "file_extension": ".py",
   "mimetype": "text/x-python",
   "name": "python",
   "nbconvert_exporter": "python",
   "pygments_lexer": "ipython3",
   "version": "3.9.15"
  },
  "toc-autonumbering": false,
  "toc-showcode": false,
  "toc-showmarkdowntxt": false
 },
 "nbformat": 4,
 "nbformat_minor": 5
}
