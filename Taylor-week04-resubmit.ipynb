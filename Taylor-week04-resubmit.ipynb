{
 "cells": [
  {
   "cell_type": "markdown",
   "id": "3866943c-2842-4efa-b510-8f4fc34615ee",
   "metadata": {
    "tags": []
   },
   "source": [
    "# Jordan Taylor\n",
    "# Week 4 Homework"
   ]
  },
  {
   "cell_type": "markdown",
   "id": "a986d357-123e-46ed-9a46-d7c7847e26ff",
   "metadata": {},
   "source": [
    "# Problem 4.1"
   ]
  },
  {
   "cell_type": "markdown",
   "id": "dee1012d-0d83-4557-a805-871f4a9bd9d0",
   "metadata": {},
   "source": [
    "Part 1"
   ]
  },
  {
   "cell_type": "code",
   "execution_count": 1,
   "id": "305d127e-31f7-4c03-8cf5-373fb001bc7d",
   "metadata": {},
   "outputs": [],
   "source": [
    "import geopandas as gpd\n",
    "from shapely.geometry import Point, LineString, Polygon"
   ]
  },
  {
   "cell_type": "code",
   "execution_count": 2,
   "id": "0d6d6ef8-be8c-48a9-807a-97cc0a4a7f61",
   "metadata": {},
   "outputs": [],
   "source": [
    "# (-118.4152,33.9699), (-118.4152,33.9689),(-118.4144,33.9689),(-118.4143, 33.96890,(-118.4142,33.96990,9-118.4152,33.9699)"
   ]
  },
  {
   "cell_type": "code",
   "execution_count": 3,
   "id": "d9ec06b2-49dd-410e-8468-8f7c5b21584c",
   "metadata": {},
   "outputs": [],
   "source": [
    "#defining the points for the polygon\n",
    "\n",
    "point1 = Point(-118.4152,33.9699)\n",
    "point2 = Point(-118.4152,33.9689)\n",
    "point3 = Point(-118.4144,33.9689)\n",
    "point4 = Point(-118.4143,33.96890)\n",
    "point5 = Point(-118.4142,33.96990)\n",
    "point6 = Point(-118.4152,33.9699)"
   ]
  },
  {
   "cell_type": "code",
   "execution_count": 4,
   "id": "32c95b74-56de-4758-8d7a-89d61bffa186",
   "metadata": {},
   "outputs": [
    {
     "data": {
      "text/plain": [
       "shapely.geometry.point.Point"
      ]
     },
     "execution_count": 4,
     "metadata": {},
     "output_type": "execute_result"
    }
   ],
   "source": [
    "point_type = type(point1)\n",
    "point_type"
   ]
  },
  {
   "cell_type": "markdown",
   "id": "6c575c7b-52a4-4b61-987a-12776c6ed58c",
   "metadata": {},
   "source": [
    "Part 2"
   ]
  },
  {
   "cell_type": "code",
   "execution_count": 5,
   "id": "60ec7e0f-446c-4d03-a62b-f95d6d71afff",
   "metadata": {},
   "outputs": [
    {
     "name": "stdout",
     "output_type": "stream",
     "text": [
      "x variable: -118.4152\n"
     ]
    }
   ],
   "source": [
    "#extracting the coordinates for each point\n",
    "point_coords1 = point1.coords\n",
    "point_coords2 = point2.coords\n",
    "point_coords3 = point3.coords\n",
    "point_coords4 = point4.coords\n",
    "point_coords5 = point5.coords\n",
    "point_coords6 = point6.coords\n",
    "\n",
    "#getting coordinates for each point\n",
    "xy1 = point_coords1.xy\n",
    "xy2 = point_coords2.xy\n",
    "xy3 = point_coords3.xy\n",
    "xy4 = point_coords4.xy\n",
    "xy5 = point_coords5.xy\n",
    "xy6 = point_coords6.xy\n",
    "\n",
    "x1 = point1.x\n",
    "print(\"x variable:\", x1)"
   ]
  },
  {
   "cell_type": "code",
   "execution_count": 6,
   "id": "c98fe605-a9bd-4d7a-adc1-5e6c923bd359",
   "metadata": {},
   "outputs": [],
   "source": [
    "#creating the polygon\n",
    "\n",
    "poly = Polygon([[p.x, p.y] for p in [point1, point2, point3, point4, point5, point6]])"
   ]
  },
  {
   "cell_type": "code",
   "execution_count": 7,
   "id": "82d6182c-dbb1-483a-87f7-715f915c9a2d",
   "metadata": {},
   "outputs": [
    {
     "name": "stdout",
     "output_type": "stream",
     "text": [
      "line variable: \n",
      " LINESTRING (-118.4152 33.9699, -118.4152 33.9689, -118.4144 33.9689, -118.4143 33.9689, -118.4142 33.9699, -118.4152 33.9699)\n"
     ]
    }
   ],
   "source": [
    "#creating a linestring to calculate the polygon's centroid\n",
    "line = LineString([point1, point2, point3, point4, point5, point6])\n",
    "\n",
    "#printing the results\n",
    "print(\"line variable: \\n\", line)"
   ]
  },
  {
   "cell_type": "code",
   "execution_count": 8,
   "id": "59cb150e-2a5f-4541-97e2-641bd697d858",
   "metadata": {},
   "outputs": [
    {
     "name": "stdout",
     "output_type": "stream",
     "text": [
      "(array('d', [-118.4152, -118.4152, -118.4144, -118.4143, -118.4142, -118.4152]), array('d', [33.9699, 33.9689, 33.9689, 33.9689, 33.9699, 33.9699]))\n"
     ]
    }
   ],
   "source": [
    "#getting x and y coordinates for the line\n",
    "lxy = line.xy\n",
    "print(lxy)"
   ]
  },
  {
   "cell_type": "markdown",
   "id": "d8496603-079f-4636-a64b-aba0d1daec4b",
   "metadata": {},
   "source": [
    "Part 3"
   ]
  },
  {
   "cell_type": "code",
   "execution_count": 9,
   "id": "7828378d-e8b6-473a-b48d-86c9d48db107",
   "metadata": {},
   "outputs": [
    {
     "name": "stdout",
     "output_type": "stream",
     "text": [
      "Centroid of the polygon is:  POINT (-118.4147245614035 33.96940877192983)\n"
     ]
    }
   ],
   "source": [
    "#calculating the centroid\n",
    "\n",
    "centroid = poly.centroid\n",
    "print(\"Centroid of the polygon is: \", centroid)"
   ]
  },
  {
   "cell_type": "markdown",
   "id": "4012cb05-72cb-4f9e-a61a-c43d02fda939",
   "metadata": {},
   "source": [
    "Part 4"
   ]
  },
  {
   "cell_type": "code",
   "execution_count": 10,
   "id": "f04e7967-6b8a-482e-a46a-37cd66b5bbb1",
   "metadata": {},
   "outputs": [],
   "source": [
    "# What is the bounding box? Write an explanation of what the bounding box actual means relative to the polygon."
   ]
  },
  {
   "cell_type": "code",
   "execution_count": 11,
   "id": "3242da46-aefc-47ba-8a22-11aa810d0a3d",
   "metadata": {},
   "outputs": [
    {
     "name": "stdout",
     "output_type": "stream",
     "text": [
      "Polygon bounding box:  (-118.4152, 33.9689, -118.4142, 33.9699)\n"
     ]
    }
   ],
   "source": [
    "#bounding box\n",
    "\n",
    "bbox = poly.bounds\n",
    "print(\"Polygon bounding box: \", bbox)"
   ]
  },
  {
   "cell_type": "markdown",
   "id": "a511d307-de9b-483a-906b-ab6e04c99866",
   "metadata": {},
   "source": [
    "Explanation:\n",
    "* The bounding box, relative to the polygon, represents the smallest and largest points coordinate points.\n",
    "* The smallest point has the smallest x,y values and the largest point has the largest x,y values."
   ]
  },
  {
   "cell_type": "markdown",
   "id": "1582bab8-f755-4524-b03c-8866e11dfad5",
   "metadata": {},
   "source": [
    "# Problem 4.2"
   ]
  },
  {
   "cell_type": "markdown",
   "id": "261a52e6-319c-4812-b2f2-28079f5e1592",
   "metadata": {},
   "source": [
    "Part 1"
   ]
  },
  {
   "cell_type": "code",
   "execution_count": 12,
   "id": "b7fd9582-d80e-456f-8245-21ecbe13e2f2",
   "metadata": {},
   "outputs": [
    {
     "name": "stderr",
     "output_type": "stream",
     "text": [
      "ERROR 1: PROJ: proj_create_from_database: Open of /opt/tljh/user/share/proj failed\n"
     ]
    },
    {
     "data": {
      "text/plain": [
       "<Geographic 2D CRS: EPSG:4326>\n",
       "Name: WGS 84\n",
       "Axis Info [ellipsoidal]:\n",
       "- Lat[north]: Geodetic latitude (degree)\n",
       "- Lon[east]: Geodetic longitude (degree)\n",
       "Area of Use:\n",
       "- name: World.\n",
       "- bounds: (-180.0, -90.0, 180.0, 90.0)\n",
       "Datum: World Geodetic System 1984 ensemble\n",
       "- Ellipsoid: WGS 84\n",
       "- Prime Meridian: Greenwich"
      ]
     },
     "execution_count": 12,
     "metadata": {},
     "output_type": "execute_result"
    }
   ],
   "source": [
    "import pandas as pd\n",
    "import geopandas as gpd\n",
    "\n",
    "fp = \"Justice_Equity_Need_Index.geojson\"\n",
    "data = gpd.read_file(fp)\n",
    "\n",
    "#checking the coordinate reference system\n",
    "data.crs"
   ]
  },
  {
   "cell_type": "markdown",
   "id": "04ade3fa-ede4-46dd-aaa2-605e3f866a5f",
   "metadata": {},
   "source": [
    "Part 2"
   ]
  },
  {
   "cell_type": "markdown",
   "id": "16e502e8-e68f-4063-8d6f-a7214e259e3d",
   "metadata": {},
   "source": [
    "What is the default CRS?"
   ]
  },
  {
   "cell_type": "markdown",
   "id": "382e71e2-521f-47c8-a578-b50276f36c6f",
   "metadata": {},
   "source": [
    "* The CRS is EPSG:4326, which belongs to the WGS84, a Geodetic coordinate system for the world."
   ]
  },
  {
   "cell_type": "markdown",
   "id": "606cccd1-9d69-4e3e-ade3-67b9c68ef7bc",
   "metadata": {},
   "source": [
    "Part 3"
   ]
  },
  {
   "cell_type": "code",
   "execution_count": 13,
   "id": "de82a083-91ef-489f-9860-aed0787fd469",
   "metadata": {},
   "outputs": [
    {
     "data": {
      "text/html": [
       "<div>\n",
       "<style scoped>\n",
       "    .dataframe tbody tr th:only-of-type {\n",
       "        vertical-align: middle;\n",
       "    }\n",
       "\n",
       "    .dataframe tbody tr th {\n",
       "        vertical-align: top;\n",
       "    }\n",
       "\n",
       "    .dataframe thead th {\n",
       "        text-align: right;\n",
       "    }\n",
       "</style>\n",
       "<table border=\"1\" class=\"dataframe\">\n",
       "  <thead>\n",
       "    <tr style=\"text-align: right;\">\n",
       "      <th></th>\n",
       "      <th>OBJECTID</th>\n",
       "      <th>zip</th>\n",
       "      <th>jenicategory</th>\n",
       "      <th>jenipctl</th>\n",
       "      <th>jenirank</th>\n",
       "      <th>riskcategory</th>\n",
       "      <th>riskpctl</th>\n",
       "      <th>driverscategory</th>\n",
       "      <th>driverspctl</th>\n",
       "      <th>systemcategory</th>\n",
       "      <th>systempctl</th>\n",
       "      <th>neighborhood</th>\n",
       "      <th>sup_dist</th>\n",
       "      <th>spa</th>\n",
       "      <th>csa</th>\n",
       "      <th>SHAPE_Length</th>\n",
       "      <th>SHAPE_Area</th>\n",
       "      <th>geometry</th>\n",
       "    </tr>\n",
       "  </thead>\n",
       "  <tbody>\n",
       "    <tr>\n",
       "      <th>0</th>\n",
       "      <td>1</td>\n",
       "      <td>91108</td>\n",
       "      <td>Lowest</td>\n",
       "      <td>0.0</td>\n",
       "      <td>277</td>\n",
       "      <td>Lowest</td>\n",
       "      <td>0.4</td>\n",
       "      <td>Lowest</td>\n",
       "      <td>0.7</td>\n",
       "      <td>Lowest</td>\n",
       "      <td>3.3</td>\n",
       "      <td>San Marino</td>\n",
       "      <td>District 5</td>\n",
       "      <td>SPA 3 - San Gabriel</td>\n",
       "      <td>City of San Marino</td>\n",
       "      <td>0.177419</td>\n",
       "      <td>0.000962</td>\n",
       "      <td>MULTIPOLYGON (((-118.10864 34.13733, -118.1084...</td>\n",
       "    </tr>\n",
       "    <tr>\n",
       "      <th>1</th>\n",
       "      <td>2</td>\n",
       "      <td>90631</td>\n",
       "      <td>Lowest</td>\n",
       "      <td>0.4</td>\n",
       "      <td>276</td>\n",
       "      <td>Lowest</td>\n",
       "      <td>2.9</td>\n",
       "      <td>Lowest</td>\n",
       "      <td>1.8</td>\n",
       "      <td>Lowest</td>\n",
       "      <td>0.7</td>\n",
       "      <td>La Habra Heights</td>\n",
       "      <td>District 4</td>\n",
       "      <td>SPA 7 - East</td>\n",
       "      <td>City of La Habra Heights</td>\n",
       "      <td>0.234952</td>\n",
       "      <td>0.001614</td>\n",
       "      <td>MULTIPOLYGON (((-117.94274 33.97488, -117.9427...</td>\n",
       "    </tr>\n",
       "    <tr>\n",
       "      <th>2</th>\n",
       "      <td>3</td>\n",
       "      <td>90274</td>\n",
       "      <td>Lowest</td>\n",
       "      <td>0.7</td>\n",
       "      <td>275</td>\n",
       "      <td>Lowest</td>\n",
       "      <td>3.6</td>\n",
       "      <td>Lowest</td>\n",
       "      <td>0.0</td>\n",
       "      <td>Lowest</td>\n",
       "      <td>7.2</td>\n",
       "      <td>Palos Verdes Estates</td>\n",
       "      <td>District 4</td>\n",
       "      <td>SPA 8 - South Bay</td>\n",
       "      <td>City of Rancho Palos Verdes</td>\n",
       "      <td>0.563332</td>\n",
       "      <td>0.003029</td>\n",
       "      <td>MULTIPOLYGON (((-118.39057 33.80426, -118.3905...</td>\n",
       "    </tr>\n",
       "    <tr>\n",
       "      <th>3</th>\n",
       "      <td>4</td>\n",
       "      <td>91361</td>\n",
       "      <td>Lowest</td>\n",
       "      <td>1.1</td>\n",
       "      <td>274</td>\n",
       "      <td>Lowest</td>\n",
       "      <td>12.2</td>\n",
       "      <td>Lowest</td>\n",
       "      <td>0.4</td>\n",
       "      <td>Lowest</td>\n",
       "      <td>5.1</td>\n",
       "      <td>Westlake Village</td>\n",
       "      <td>District 3</td>\n",
       "      <td>SPA 2 - San Fernando</td>\n",
       "      <td>City of Westlake Village</td>\n",
       "      <td>0.197748</td>\n",
       "      <td>0.001336</td>\n",
       "      <td>MULTIPOLYGON (((-118.80028 34.14798, -118.7995...</td>\n",
       "    </tr>\n",
       "    <tr>\n",
       "      <th>4</th>\n",
       "      <td>5</td>\n",
       "      <td>90275</td>\n",
       "      <td>Lowest</td>\n",
       "      <td>1.4</td>\n",
       "      <td>273</td>\n",
       "      <td>Lowest</td>\n",
       "      <td>6.8</td>\n",
       "      <td>Lowest</td>\n",
       "      <td>3.6</td>\n",
       "      <td>Lowest</td>\n",
       "      <td>6.2</td>\n",
       "      <td>Rancho Palos Verdes</td>\n",
       "      <td>District 4</td>\n",
       "      <td>SPA 8 - South Bay</td>\n",
       "      <td>City of Rancho Palos Verdes</td>\n",
       "      <td>0.624171</td>\n",
       "      <td>0.003365</td>\n",
       "      <td>MULTIPOLYGON (((-118.39313 33.73857, -118.3931...</td>\n",
       "    </tr>\n",
       "  </tbody>\n",
       "</table>\n",
       "</div>"
      ],
      "text/plain": [
       "   OBJECTID    zip jenicategory  jenipctl  jenirank riskcategory  riskpctl  \\\n",
       "0         1  91108       Lowest       0.0       277       Lowest       0.4   \n",
       "1         2  90631       Lowest       0.4       276       Lowest       2.9   \n",
       "2         3  90274       Lowest       0.7       275       Lowest       3.6   \n",
       "3         4  91361       Lowest       1.1       274       Lowest      12.2   \n",
       "4         5  90275       Lowest       1.4       273       Lowest       6.8   \n",
       "\n",
       "  driverscategory  driverspctl systemcategory  systempctl  \\\n",
       "0          Lowest          0.7         Lowest         3.3   \n",
       "1          Lowest          1.8         Lowest         0.7   \n",
       "2          Lowest          0.0         Lowest         7.2   \n",
       "3          Lowest          0.4         Lowest         5.1   \n",
       "4          Lowest          3.6         Lowest         6.2   \n",
       "\n",
       "           neighborhood    sup_dist                   spa  \\\n",
       "0            San Marino  District 5   SPA 3 - San Gabriel   \n",
       "1      La Habra Heights  District 4          SPA 7 - East   \n",
       "2  Palos Verdes Estates  District 4     SPA 8 - South Bay   \n",
       "3      Westlake Village  District 3  SPA 2 - San Fernando   \n",
       "4   Rancho Palos Verdes  District 4     SPA 8 - South Bay   \n",
       "\n",
       "                           csa  SHAPE_Length  SHAPE_Area  \\\n",
       "0           City of San Marino      0.177419    0.000962   \n",
       "1     City of La Habra Heights      0.234952    0.001614   \n",
       "2  City of Rancho Palos Verdes      0.563332    0.003029   \n",
       "3     City of Westlake Village      0.197748    0.001336   \n",
       "4  City of Rancho Palos Verdes      0.624171    0.003365   \n",
       "\n",
       "                                            geometry  \n",
       "0  MULTIPOLYGON (((-118.10864 34.13733, -118.1084...  \n",
       "1  MULTIPOLYGON (((-117.94274 33.97488, -117.9427...  \n",
       "2  MULTIPOLYGON (((-118.39057 33.80426, -118.3905...  \n",
       "3  MULTIPOLYGON (((-118.80028 34.14798, -118.7995...  \n",
       "4  MULTIPOLYGON (((-118.39313 33.73857, -118.3931...  "
      ]
     },
     "execution_count": 13,
     "metadata": {},
     "output_type": "execute_result"
    }
   ],
   "source": [
    "data.head()"
   ]
  },
  {
   "cell_type": "code",
   "execution_count": 14,
   "id": "bc16e5ac-4c19-4864-abca-bdbea632343f",
   "metadata": {},
   "outputs": [],
   "source": [
    "#size of the dataframe"
   ]
  },
  {
   "cell_type": "code",
   "execution_count": 15,
   "id": "ee656a0a-1dd8-4d09-87cb-1df768fb4a4d",
   "metadata": {},
   "outputs": [
    {
     "name": "stdout",
     "output_type": "stream",
     "text": [
      "(281, 18)\n"
     ]
    }
   ],
   "source": [
    "print(data.shape)"
   ]
  },
  {
   "cell_type": "code",
   "execution_count": 16,
   "id": "5601dafd-bde8-4246-95c3-0177e24a1d9e",
   "metadata": {},
   "outputs": [
    {
     "name": "stdout",
     "output_type": "stream",
     "text": [
      "The dataframe size is: 5058\n"
     ]
    }
   ],
   "source": [
    "print(\"The dataframe size is:\", data.size)"
   ]
  },
  {
   "cell_type": "code",
   "execution_count": 17,
   "id": "56b8a3cb-22d5-45b8-8756-461efce4bc73",
   "metadata": {},
   "outputs": [],
   "source": [
    "#list the column names"
   ]
  },
  {
   "cell_type": "code",
   "execution_count": 18,
   "id": "cb1e1968-e4f3-4537-8564-fd57c332fa5f",
   "metadata": {},
   "outputs": [
    {
     "name": "stdout",
     "output_type": "stream",
     "text": [
      "OBJECTID\n",
      "zip\n",
      "jenicategory\n",
      "jenipctl\n",
      "jenirank\n",
      "riskcategory\n",
      "riskpctl\n",
      "driverscategory\n",
      "driverspctl\n",
      "systemcategory\n",
      "systempctl\n",
      "neighborhood\n",
      "sup_dist\n",
      "spa\n",
      "csa\n",
      "SHAPE_Length\n",
      "SHAPE_Area\n",
      "geometry\n"
     ]
    }
   ],
   "source": [
    "for columns in data.columns:\n",
    "    print(columns)"
   ]
  },
  {
   "cell_type": "code",
   "execution_count": 19,
   "id": "ca4ace71-5996-457d-884c-bd964040a2ff",
   "metadata": {},
   "outputs": [],
   "source": [
    "#show the first 10 rows in the dataframe"
   ]
  },
  {
   "cell_type": "code",
   "execution_count": 20,
   "id": "eae8b991-80ff-4528-8c1b-dfc98fa2293a",
   "metadata": {},
   "outputs": [],
   "source": [
    "data_tenrows = data.head(10)"
   ]
  },
  {
   "cell_type": "code",
   "execution_count": 21,
   "id": "9901f90a-60cb-4796-937c-7c1a223b4a73",
   "metadata": {},
   "outputs": [
    {
     "data": {
      "text/html": [
       "<div>\n",
       "<style scoped>\n",
       "    .dataframe tbody tr th:only-of-type {\n",
       "        vertical-align: middle;\n",
       "    }\n",
       "\n",
       "    .dataframe tbody tr th {\n",
       "        vertical-align: top;\n",
       "    }\n",
       "\n",
       "    .dataframe thead th {\n",
       "        text-align: right;\n",
       "    }\n",
       "</style>\n",
       "<table border=\"1\" class=\"dataframe\">\n",
       "  <thead>\n",
       "    <tr style=\"text-align: right;\">\n",
       "      <th></th>\n",
       "      <th>OBJECTID</th>\n",
       "      <th>zip</th>\n",
       "      <th>jenicategory</th>\n",
       "      <th>jenipctl</th>\n",
       "      <th>jenirank</th>\n",
       "      <th>riskcategory</th>\n",
       "      <th>riskpctl</th>\n",
       "      <th>driverscategory</th>\n",
       "      <th>driverspctl</th>\n",
       "      <th>systemcategory</th>\n",
       "      <th>systempctl</th>\n",
       "      <th>neighborhood</th>\n",
       "      <th>sup_dist</th>\n",
       "      <th>spa</th>\n",
       "      <th>csa</th>\n",
       "      <th>SHAPE_Length</th>\n",
       "      <th>SHAPE_Area</th>\n",
       "      <th>geometry</th>\n",
       "    </tr>\n",
       "  </thead>\n",
       "  <tbody>\n",
       "    <tr>\n",
       "      <th>0</th>\n",
       "      <td>1</td>\n",
       "      <td>91108</td>\n",
       "      <td>Lowest</td>\n",
       "      <td>0.0</td>\n",
       "      <td>277</td>\n",
       "      <td>Lowest</td>\n",
       "      <td>0.4</td>\n",
       "      <td>Lowest</td>\n",
       "      <td>0.7</td>\n",
       "      <td>Lowest</td>\n",
       "      <td>3.3</td>\n",
       "      <td>San Marino</td>\n",
       "      <td>District 5</td>\n",
       "      <td>SPA 3 - San Gabriel</td>\n",
       "      <td>City of San Marino</td>\n",
       "      <td>0.177419</td>\n",
       "      <td>0.000962</td>\n",
       "      <td>MULTIPOLYGON (((-118.10864 34.13733, -118.1084...</td>\n",
       "    </tr>\n",
       "    <tr>\n",
       "      <th>1</th>\n",
       "      <td>2</td>\n",
       "      <td>90631</td>\n",
       "      <td>Lowest</td>\n",
       "      <td>0.4</td>\n",
       "      <td>276</td>\n",
       "      <td>Lowest</td>\n",
       "      <td>2.9</td>\n",
       "      <td>Lowest</td>\n",
       "      <td>1.8</td>\n",
       "      <td>Lowest</td>\n",
       "      <td>0.7</td>\n",
       "      <td>La Habra Heights</td>\n",
       "      <td>District 4</td>\n",
       "      <td>SPA 7 - East</td>\n",
       "      <td>City of La Habra Heights</td>\n",
       "      <td>0.234952</td>\n",
       "      <td>0.001614</td>\n",
       "      <td>MULTIPOLYGON (((-117.94274 33.97488, -117.9427...</td>\n",
       "    </tr>\n",
       "    <tr>\n",
       "      <th>2</th>\n",
       "      <td>3</td>\n",
       "      <td>90274</td>\n",
       "      <td>Lowest</td>\n",
       "      <td>0.7</td>\n",
       "      <td>275</td>\n",
       "      <td>Lowest</td>\n",
       "      <td>3.6</td>\n",
       "      <td>Lowest</td>\n",
       "      <td>0.0</td>\n",
       "      <td>Lowest</td>\n",
       "      <td>7.2</td>\n",
       "      <td>Palos Verdes Estates</td>\n",
       "      <td>District 4</td>\n",
       "      <td>SPA 8 - South Bay</td>\n",
       "      <td>City of Rancho Palos Verdes</td>\n",
       "      <td>0.563332</td>\n",
       "      <td>0.003029</td>\n",
       "      <td>MULTIPOLYGON (((-118.39057 33.80426, -118.3905...</td>\n",
       "    </tr>\n",
       "    <tr>\n",
       "      <th>3</th>\n",
       "      <td>4</td>\n",
       "      <td>91361</td>\n",
       "      <td>Lowest</td>\n",
       "      <td>1.1</td>\n",
       "      <td>274</td>\n",
       "      <td>Lowest</td>\n",
       "      <td>12.2</td>\n",
       "      <td>Lowest</td>\n",
       "      <td>0.4</td>\n",
       "      <td>Lowest</td>\n",
       "      <td>5.1</td>\n",
       "      <td>Westlake Village</td>\n",
       "      <td>District 3</td>\n",
       "      <td>SPA 2 - San Fernando</td>\n",
       "      <td>City of Westlake Village</td>\n",
       "      <td>0.197748</td>\n",
       "      <td>0.001336</td>\n",
       "      <td>MULTIPOLYGON (((-118.80028 34.14798, -118.7995...</td>\n",
       "    </tr>\n",
       "    <tr>\n",
       "      <th>4</th>\n",
       "      <td>5</td>\n",
       "      <td>90275</td>\n",
       "      <td>Lowest</td>\n",
       "      <td>1.4</td>\n",
       "      <td>273</td>\n",
       "      <td>Lowest</td>\n",
       "      <td>6.8</td>\n",
       "      <td>Lowest</td>\n",
       "      <td>3.6</td>\n",
       "      <td>Lowest</td>\n",
       "      <td>6.2</td>\n",
       "      <td>Rancho Palos Verdes</td>\n",
       "      <td>District 4</td>\n",
       "      <td>SPA 8 - South Bay</td>\n",
       "      <td>City of Rancho Palos Verdes</td>\n",
       "      <td>0.624171</td>\n",
       "      <td>0.003365</td>\n",
       "      <td>MULTIPOLYGON (((-118.39313 33.73857, -118.3931...</td>\n",
       "    </tr>\n",
       "    <tr>\n",
       "      <th>5</th>\n",
       "      <td>6</td>\n",
       "      <td>90077</td>\n",
       "      <td>Lowest</td>\n",
       "      <td>1.8</td>\n",
       "      <td>272</td>\n",
       "      <td>Lowest</td>\n",
       "      <td>2.5</td>\n",
       "      <td>Lowest</td>\n",
       "      <td>13.6</td>\n",
       "      <td>Lowest</td>\n",
       "      <td>1.4</td>\n",
       "      <td>Bel-Air</td>\n",
       "      <td>District 3</td>\n",
       "      <td>SPA 5 - West</td>\n",
       "      <td>Los Angeles - Bel Air</td>\n",
       "      <td>0.268660</td>\n",
       "      <td>0.001831</td>\n",
       "      <td>MULTIPOLYGON (((-118.45549 34.13449, -118.4555...</td>\n",
       "    </tr>\n",
       "    <tr>\n",
       "      <th>6</th>\n",
       "      <td>7</td>\n",
       "      <td>91436</td>\n",
       "      <td>Lowest</td>\n",
       "      <td>2.2</td>\n",
       "      <td>271</td>\n",
       "      <td>Lowest</td>\n",
       "      <td>10.4</td>\n",
       "      <td>Lowest</td>\n",
       "      <td>5.4</td>\n",
       "      <td>Lowest</td>\n",
       "      <td>2.5</td>\n",
       "      <td>Encino</td>\n",
       "      <td>District 3</td>\n",
       "      <td>SPA 2 - San Fernando</td>\n",
       "      <td>Los Angeles - Encino</td>\n",
       "      <td>0.232985</td>\n",
       "      <td>0.001614</td>\n",
       "      <td>MULTIPOLYGON (((-118.49296 34.18609, -118.4929...</td>\n",
       "    </tr>\n",
       "    <tr>\n",
       "      <th>7</th>\n",
       "      <td>8</td>\n",
       "      <td>90094</td>\n",
       "      <td>Lowest</td>\n",
       "      <td>2.5</td>\n",
       "      <td>270</td>\n",
       "      <td>Lowest</td>\n",
       "      <td>9.0</td>\n",
       "      <td>Lowest</td>\n",
       "      <td>6.5</td>\n",
       "      <td>Lowest</td>\n",
       "      <td>4.7</td>\n",
       "      <td>Playa Vista</td>\n",
       "      <td>District 2</td>\n",
       "      <td>SPA 5 - West</td>\n",
       "      <td>Los Angeles - Playa Vista</td>\n",
       "      <td>0.152547</td>\n",
       "      <td>0.000306</td>\n",
       "      <td>MULTIPOLYGON (((-118.40129 33.98378, -118.4008...</td>\n",
       "    </tr>\n",
       "    <tr>\n",
       "      <th>8</th>\n",
       "      <td>9</td>\n",
       "      <td>91007</td>\n",
       "      <td>Lowest</td>\n",
       "      <td>2.9</td>\n",
       "      <td>269</td>\n",
       "      <td>Lowest</td>\n",
       "      <td>3.2</td>\n",
       "      <td>Lowest</td>\n",
       "      <td>10.0</td>\n",
       "      <td>Lowest</td>\n",
       "      <td>6.9</td>\n",
       "      <td>Arcadia</td>\n",
       "      <td>District 5</td>\n",
       "      <td>SPA 3 - San Gabriel</td>\n",
       "      <td>City of Arcadia</td>\n",
       "      <td>0.212972</td>\n",
       "      <td>0.001380</td>\n",
       "      <td>MULTIPOLYGON (((-118.05051 34.14841, -118.0500...</td>\n",
       "    </tr>\n",
       "    <tr>\n",
       "      <th>9</th>\n",
       "      <td>10</td>\n",
       "      <td>90049</td>\n",
       "      <td>Lowest</td>\n",
       "      <td>3.3</td>\n",
       "      <td>268</td>\n",
       "      <td>Lowest</td>\n",
       "      <td>13.6</td>\n",
       "      <td>Lowest</td>\n",
       "      <td>2.5</td>\n",
       "      <td>Lowest</td>\n",
       "      <td>4.3</td>\n",
       "      <td>Brentwood</td>\n",
       "      <td>District 3</td>\n",
       "      <td>SPA 5 - West</td>\n",
       "      <td>Los Angeles - Brentwood</td>\n",
       "      <td>0.395030</td>\n",
       "      <td>0.003870</td>\n",
       "      <td>MULTIPOLYGON (((-118.48933 34.13154, -118.4886...</td>\n",
       "    </tr>\n",
       "  </tbody>\n",
       "</table>\n",
       "</div>"
      ],
      "text/plain": [
       "   OBJECTID    zip jenicategory  jenipctl  jenirank riskcategory  riskpctl  \\\n",
       "0         1  91108       Lowest       0.0       277       Lowest       0.4   \n",
       "1         2  90631       Lowest       0.4       276       Lowest       2.9   \n",
       "2         3  90274       Lowest       0.7       275       Lowest       3.6   \n",
       "3         4  91361       Lowest       1.1       274       Lowest      12.2   \n",
       "4         5  90275       Lowest       1.4       273       Lowest       6.8   \n",
       "5         6  90077       Lowest       1.8       272       Lowest       2.5   \n",
       "6         7  91436       Lowest       2.2       271       Lowest      10.4   \n",
       "7         8  90094       Lowest       2.5       270       Lowest       9.0   \n",
       "8         9  91007       Lowest       2.9       269       Lowest       3.2   \n",
       "9        10  90049       Lowest       3.3       268       Lowest      13.6   \n",
       "\n",
       "  driverscategory  driverspctl systemcategory  systempctl  \\\n",
       "0          Lowest          0.7         Lowest         3.3   \n",
       "1          Lowest          1.8         Lowest         0.7   \n",
       "2          Lowest          0.0         Lowest         7.2   \n",
       "3          Lowest          0.4         Lowest         5.1   \n",
       "4          Lowest          3.6         Lowest         6.2   \n",
       "5          Lowest         13.6         Lowest         1.4   \n",
       "6          Lowest          5.4         Lowest         2.5   \n",
       "7          Lowest          6.5         Lowest         4.7   \n",
       "8          Lowest         10.0         Lowest         6.9   \n",
       "9          Lowest          2.5         Lowest         4.3   \n",
       "\n",
       "           neighborhood    sup_dist                   spa  \\\n",
       "0            San Marino  District 5   SPA 3 - San Gabriel   \n",
       "1      La Habra Heights  District 4          SPA 7 - East   \n",
       "2  Palos Verdes Estates  District 4     SPA 8 - South Bay   \n",
       "3      Westlake Village  District 3  SPA 2 - San Fernando   \n",
       "4   Rancho Palos Verdes  District 4     SPA 8 - South Bay   \n",
       "5               Bel-Air  District 3          SPA 5 - West   \n",
       "6                Encino  District 3  SPA 2 - San Fernando   \n",
       "7           Playa Vista  District 2          SPA 5 - West   \n",
       "8               Arcadia  District 5   SPA 3 - San Gabriel   \n",
       "9             Brentwood  District 3          SPA 5 - West   \n",
       "\n",
       "                           csa  SHAPE_Length  SHAPE_Area  \\\n",
       "0           City of San Marino      0.177419    0.000962   \n",
       "1     City of La Habra Heights      0.234952    0.001614   \n",
       "2  City of Rancho Palos Verdes      0.563332    0.003029   \n",
       "3     City of Westlake Village      0.197748    0.001336   \n",
       "4  City of Rancho Palos Verdes      0.624171    0.003365   \n",
       "5        Los Angeles - Bel Air      0.268660    0.001831   \n",
       "6         Los Angeles - Encino      0.232985    0.001614   \n",
       "7    Los Angeles - Playa Vista      0.152547    0.000306   \n",
       "8              City of Arcadia      0.212972    0.001380   \n",
       "9      Los Angeles - Brentwood      0.395030    0.003870   \n",
       "\n",
       "                                            geometry  \n",
       "0  MULTIPOLYGON (((-118.10864 34.13733, -118.1084...  \n",
       "1  MULTIPOLYGON (((-117.94274 33.97488, -117.9427...  \n",
       "2  MULTIPOLYGON (((-118.39057 33.80426, -118.3905...  \n",
       "3  MULTIPOLYGON (((-118.80028 34.14798, -118.7995...  \n",
       "4  MULTIPOLYGON (((-118.39313 33.73857, -118.3931...  \n",
       "5  MULTIPOLYGON (((-118.45549 34.13449, -118.4555...  \n",
       "6  MULTIPOLYGON (((-118.49296 34.18609, -118.4929...  \n",
       "7  MULTIPOLYGON (((-118.40129 33.98378, -118.4008...  \n",
       "8  MULTIPOLYGON (((-118.05051 34.14841, -118.0500...  \n",
       "9  MULTIPOLYGON (((-118.48933 34.13154, -118.4886...  "
      ]
     },
     "execution_count": 21,
     "metadata": {},
     "output_type": "execute_result"
    }
   ],
   "source": [
    "data_tenrows"
   ]
  },
  {
   "cell_type": "code",
   "execution_count": 22,
   "id": "8b6e46b6-09c2-4497-b24e-05fea9fbe50d",
   "metadata": {},
   "outputs": [],
   "source": [
    "#making a copy of the dataframe and reprojecting the CRS to epsg:3857"
   ]
  },
  {
   "cell_type": "code",
   "execution_count": 23,
   "id": "862e299f-a741-4abb-82ca-8aa1ab977eab",
   "metadata": {},
   "outputs": [
    {
     "name": "stdout",
     "output_type": "stream",
     "text": [
      "0    MULTIPOLYGON (((-13147794.179 4047256.800, -13...\n",
      "1    MULTIPOLYGON (((-13129326.139 4025429.029, -13...\n",
      "2    MULTIPOLYGON (((-13179177.697 4002548.915, -13...\n",
      "3    MULTIPOLYGON (((-13224787.024 4048688.878, -13...\n",
      "4    MULTIPOLYGON (((-13179462.784 3993751.501, -13...\n",
      "Name: geometry, dtype: geometry\n"
     ]
    }
   ],
   "source": [
    "orig = data.copy()\n",
    "data = data.to_crs(epsg=3857)\n",
    "print(data['geometry'].head())"
   ]
  },
  {
   "cell_type": "code",
   "execution_count": 24,
   "id": "cdee7683-f8e0-4ce1-8048-e12ab01a2cea",
   "metadata": {},
   "outputs": [
    {
     "data": {
      "text/plain": [
       "<Geographic 2D CRS: EPSG:4326>\n",
       "Name: WGS 84\n",
       "Axis Info [ellipsoidal]:\n",
       "- Lat[north]: Geodetic latitude (degree)\n",
       "- Lon[east]: Geodetic longitude (degree)\n",
       "Area of Use:\n",
       "- name: World.\n",
       "- bounds: (-180.0, -90.0, 180.0, 90.0)\n",
       "Datum: World Geodetic System 1984 ensemble\n",
       "- Ellipsoid: WGS 84\n",
       "- Prime Meridian: Greenwich"
      ]
     },
     "execution_count": 24,
     "metadata": {},
     "output_type": "execute_result"
    }
   ],
   "source": [
    "orig.crs"
   ]
  },
  {
   "cell_type": "code",
   "execution_count": 25,
   "id": "72e1041e-17b0-43f7-b211-a9d01617801c",
   "metadata": {},
   "outputs": [
    {
     "data": {
      "text/plain": [
       "<Derived Projected CRS: EPSG:3857>\n",
       "Name: WGS 84 / Pseudo-Mercator\n",
       "Axis Info [cartesian]:\n",
       "- X[east]: Easting (metre)\n",
       "- Y[north]: Northing (metre)\n",
       "Area of Use:\n",
       "- name: World between 85.06°S and 85.06°N.\n",
       "- bounds: (-180.0, -85.06, 180.0, 85.06)\n",
       "Coordinate Operation:\n",
       "- name: Popular Visualisation Pseudo-Mercator\n",
       "- method: Popular Visualisation Pseudo Mercator\n",
       "Datum: World Geodetic System 1984 ensemble\n",
       "- Ellipsoid: WGS 84\n",
       "- Prime Meridian: Greenwich"
      ]
     },
     "execution_count": 25,
     "metadata": {},
     "output_type": "execute_result"
    }
   ],
   "source": [
    "data.crs"
   ]
  },
  {
   "cell_type": "code",
   "execution_count": 26,
   "id": "3bc36acc-65ec-4b35-b7fb-6237c46660ab",
   "metadata": {},
   "outputs": [
    {
     "name": "stdout",
     "output_type": "stream",
     "text": [
      "0    MULTIPOLYGON (((-118.10864 34.13733, -118.1084...\n",
      "1    MULTIPOLYGON (((-117.94274 33.97488, -117.9427...\n",
      "2    MULTIPOLYGON (((-118.39057 33.80426, -118.3905...\n",
      "3    MULTIPOLYGON (((-118.80028 34.14798, -118.7995...\n",
      "4    MULTIPOLYGON (((-118.39313 33.73857, -118.3931...\n",
      "Name: geometry, dtype: geometry\n"
     ]
    }
   ],
   "source": [
    "print(orig['geometry'].head())"
   ]
  },
  {
   "cell_type": "code",
   "execution_count": 29,
   "id": "3843be77-3a43-4921-87a4-893e562d8184",
   "metadata": {},
   "outputs": [
    {
     "data": {
      "image/png": "[encoded data removed]",
      "text/plain": [
       "<Figure size 1200x800 with 2 Axes>"
      ]
     },
     "metadata": {},
     "output_type": "display_data"
    }
   ],
   "source": [
    "#comparing the original with the new projection\n",
    "\n",
    "import matplotlib.pyplot as plt\n",
    "\n",
    "# Make subplots that are next to each other\n",
    "fig, (ax1, ax2) = plt.subplots(nrows=1, ncols=2, figsize=(12, 8))\n",
    "\n",
    "# plotting the original projection\n",
    "orig.plot(ax=ax1, facecolor='gray');\n",
    "\n",
    "# adding a title\n",
    "ax1.set_title(\"EPSG 4326\");\n",
    "\n",
    "# plotting the new 3857 projection\n",
    "data.plot(ax=ax2, facecolor='blue');\n",
    "\n",
    "# adding a title\n",
    "ax2.set_title(\"EPSG 3857 (new projection)\");\n",
    "\n",
    "# removing empty white space around the plot\n",
    "plt.tight_layout()"
   ]
  },
  {
   "cell_type": "markdown",
   "id": "cf1e71da-bcc1-47f3-95c5-71f260312561",
   "metadata": {},
   "source": [
    "Comparison:\n",
    "* The two visualizations use a different color for the projection\n",
    "* EPSG 4326 on the left seems to show a bit more detail, possibly because of the plot's color?\n",
    "* The scale for each projection is different\n",
    "* The scale for 4326 is in decimal degrees\n",
    "* The scale for 3857 is in meters\n",
    "* x/y axis for both plots are different (demical degrees and meters)"
   ]
  },
  {
   "cell_type": "markdown",
   "id": "29ab0d55-0820-4502-aca2-47b4f8b89899",
   "metadata": {},
   "source": [
    "# Problem 3.3"
   ]
  },
  {
   "cell_type": "markdown",
   "id": "c6c53518-4574-46d2-a131-28f82236fb61",
   "metadata": {},
   "source": [
    "Part 1"
   ]
  },
  {
   "cell_type": "code",
   "execution_count": 41,
   "id": "595b1f3e-2174-401e-abc3-f2a0c3673ad0",
   "metadata": {},
   "outputs": [
    {
     "data": {
      "text/html": [
       "<div>\n",
       "<style scoped>\n",
       "    .dataframe tbody tr th:only-of-type {\n",
       "        vertical-align: middle;\n",
       "    }\n",
       "\n",
       "    .dataframe tbody tr th {\n",
       "        vertical-align: top;\n",
       "    }\n",
       "\n",
       "    .dataframe thead th {\n",
       "        text-align: right;\n",
       "    }\n",
       "</style>\n",
       "<table border=\"1\" class=\"dataframe\">\n",
       "  <thead>\n",
       "    <tr style=\"text-align: right;\">\n",
       "      <th></th>\n",
       "      <th>Unnamed: 0</th>\n",
       "      <th>USAF</th>\n",
       "      <th>YR--MODAHRMN</th>\n",
       "      <th>TEMP</th>\n",
       "      <th>MAX</th>\n",
       "      <th>MIN</th>\n",
       "      <th>CELSIUS</th>\n",
       "    </tr>\n",
       "  </thead>\n",
       "  <tbody>\n",
       "    <tr>\n",
       "      <th>0</th>\n",
       "      <td>8776</td>\n",
       "      <td>29980</td>\n",
       "      <td>201705010600</td>\n",
       "      <td>44</td>\n",
       "      <td>44</td>\n",
       "      <td>35</td>\n",
       "      <td>0.0</td>\n",
       "    </tr>\n",
       "    <tr>\n",
       "      <th>1</th>\n",
       "      <td>8788</td>\n",
       "      <td>29980</td>\n",
       "      <td>201705011800</td>\n",
       "      <td>48</td>\n",
       "      <td>54</td>\n",
       "      <td>43</td>\n",
       "      <td>0.0</td>\n",
       "    </tr>\n",
       "    <tr>\n",
       "      <th>2</th>\n",
       "      <td>8800</td>\n",
       "      <td>29980</td>\n",
       "      <td>201705020600</td>\n",
       "      <td>50</td>\n",
       "      <td>50</td>\n",
       "      <td>34</td>\n",
       "      <td>0.0</td>\n",
       "    </tr>\n",
       "    <tr>\n",
       "      <th>3</th>\n",
       "      <td>8812</td>\n",
       "      <td>29980</td>\n",
       "      <td>201705021800</td>\n",
       "      <td>53</td>\n",
       "      <td>61</td>\n",
       "      <td>49</td>\n",
       "      <td>0.0</td>\n",
       "    </tr>\n",
       "    <tr>\n",
       "      <th>4</th>\n",
       "      <td>8824</td>\n",
       "      <td>29980</td>\n",
       "      <td>201705030600</td>\n",
       "      <td>47</td>\n",
       "      <td>53</td>\n",
       "      <td>38</td>\n",
       "      <td>0.0</td>\n",
       "    </tr>\n",
       "  </tbody>\n",
       "</table>\n",
       "</div>"
      ],
      "text/plain": [
       "   Unnamed: 0   USAF  YR--MODAHRMN  TEMP  MAX  MIN  CELSIUS\n",
       "0        8776  29980  201705010600    44   44   35      0.0\n",
       "1        8788  29980  201705011800    48   54   43      0.0\n",
       "2        8800  29980  201705020600    50   50   34      0.0\n",
       "3        8812  29980  201705021800    53   61   49      0.0\n",
       "4        8824  29980  201705030600    47   53   38      0.0"
      ]
     },
     "execution_count": 41,
     "metadata": {},
     "output_type": "execute_result"
    }
   ],
   "source": [
    "kumpula = pd.read_csv('Kumpula_temps_May_Aug_2017.csv')\n",
    "kumpula.head()"
   ]
  },
  {
   "cell_type": "code",
   "execution_count": 42,
   "id": "6df991b9-6da6-4ed8-b70e-bc17dfa624b9",
   "metadata": {},
   "outputs": [
    {
     "data": {
      "text/html": [
       "<div>\n",
       "<style scoped>\n",
       "    .dataframe tbody tr th:only-of-type {\n",
       "        vertical-align: middle;\n",
       "    }\n",
       "\n",
       "    .dataframe tbody tr th {\n",
       "        vertical-align: top;\n",
       "    }\n",
       "\n",
       "    .dataframe thead th {\n",
       "        text-align: right;\n",
       "    }\n",
       "</style>\n",
       "<table border=\"1\" class=\"dataframe\">\n",
       "  <thead>\n",
       "    <tr style=\"text-align: right;\">\n",
       "      <th></th>\n",
       "      <th>Unnamed: 0</th>\n",
       "      <th>USAF</th>\n",
       "      <th>YR--MODAHRMN</th>\n",
       "      <th>TEMP</th>\n",
       "      <th>MAX</th>\n",
       "      <th>MIN</th>\n",
       "      <th>CELSIUS</th>\n",
       "    </tr>\n",
       "  </thead>\n",
       "  <tbody>\n",
       "    <tr>\n",
       "      <th>0</th>\n",
       "      <td>18</td>\n",
       "      <td>28450</td>\n",
       "      <td>201705010600</td>\n",
       "      <td>31</td>\n",
       "      <td>34</td>\n",
       "      <td>31</td>\n",
       "      <td>0.0</td>\n",
       "    </tr>\n",
       "    <tr>\n",
       "      <th>1</th>\n",
       "      <td>54</td>\n",
       "      <td>28450</td>\n",
       "      <td>201705011800</td>\n",
       "      <td>42</td>\n",
       "      <td>44</td>\n",
       "      <td>30</td>\n",
       "      <td>0.0</td>\n",
       "    </tr>\n",
       "    <tr>\n",
       "      <th>2</th>\n",
       "      <td>90</td>\n",
       "      <td>28450</td>\n",
       "      <td>201705020600</td>\n",
       "      <td>41</td>\n",
       "      <td>42</td>\n",
       "      <td>35</td>\n",
       "      <td>0.0</td>\n",
       "    </tr>\n",
       "    <tr>\n",
       "      <th>3</th>\n",
       "      <td>126</td>\n",
       "      <td>28450</td>\n",
       "      <td>201705021800</td>\n",
       "      <td>37</td>\n",
       "      <td>45</td>\n",
       "      <td>36</td>\n",
       "      <td>0.0</td>\n",
       "    </tr>\n",
       "    <tr>\n",
       "      <th>4</th>\n",
       "      <td>161</td>\n",
       "      <td>28450</td>\n",
       "      <td>201705030600</td>\n",
       "      <td>37</td>\n",
       "      <td>37</td>\n",
       "      <td>33</td>\n",
       "      <td>0.0</td>\n",
       "    </tr>\n",
       "  </tbody>\n",
       "</table>\n",
       "</div>"
      ],
      "text/plain": [
       "   Unnamed: 0   USAF  YR--MODAHRMN  TEMP  MAX MIN  CELSIUS\n",
       "0          18  28450  201705010600    31   34  31      0.0\n",
       "1          54  28450  201705011800    42   44  30      0.0\n",
       "2          90  28450  201705020600    41   42  35      0.0\n",
       "3         126  28450  201705021800    37   45  36      0.0\n",
       "4         161  28450  201705030600    37   37  33      0.0"
      ]
     },
     "execution_count": 42,
     "metadata": {},
     "output_type": "execute_result"
    }
   ],
   "source": [
    "rovaniemi = pd.read_csv('Rovaniemi_temps_May_Aug_2017.csv')\n",
    "rovaniemi.head()"
   ]
  },
  {
   "cell_type": "code",
   "execution_count": 50,
   "id": "3029af3b-ed6f-4bde-9e99-329a640b0c5a",
   "metadata": {},
   "outputs": [
    {
     "name": "stdout",
     "output_type": "stream",
     "text": [
      "Median temperature for Kumpula is 59.0 and median temperature for Rovaniemi is 53.0\n"
     ]
    }
   ],
   "source": [
    "kumpula_median = kumpula['TEMP'].median()\n",
    "rovaniemi_median = rovaniemi['TEMP'].median()\n",
    "\n",
    "print(\"Median temperature for Kumpula is\", kumpula_median, \"and median temperature for Rovaniemi is\", rovaniemi_median)\n"
   ]
  },
  {
   "cell_type": "markdown",
   "id": "d4f34946-b200-486a-83c2-fefd79cdf5b1",
   "metadata": {},
   "source": [
    "Part 2"
   ]
  },
  {
   "cell_type": "code",
   "execution_count": 107,
   "id": "06ea823e-85ce-4023-b434-13b97693360d",
   "metadata": {},
   "outputs": [
    {
     "name": "stdout",
     "output_type": "stream",
     "text": [
      "Kumpula May data \n",
      " Mean is: 50.1 \n",
      " Min is:  36 \n",
      " Max is:  64\n"
     ]
    }
   ],
   "source": [
    "kumpula_may = kumpula.loc[(kumpula[\"YR--MODAHRMN\"] > 201705010000) & (kumpula[\"YR--MODAHRMN\"] < 201705310000)]\n",
    "\n",
    "print (\"Kumpula May data \\n Mean is:\", kumpula_may['TEMP'].mean(),\n",
    "       \"\\n Min is: \", kumpula_may['TEMP'].min(), \"\\n Max is: \", kumpula_may['TEMP'].max())"
   ]
  },
  {
   "cell_type": "code",
   "execution_count": 108,
   "id": "93abec6b-1298-4068-874a-232967835b7a",
   "metadata": {},
   "outputs": [
    {
     "name": "stdout",
     "output_type": "stream",
     "text": [
      "Rovaniemi May data \n",
      " Mean is: 38.25 \n",
      " Min is:  27 \n",
      " Max is:  54\n"
     ]
    }
   ],
   "source": [
    "rovaniemi_may = rovaniemi.loc[(rovaniemi[\"YR--MODAHRMN\"] > 201705010000) & (rovaniemi[\"YR--MODAHRMN\"] < 201705310000)]\n",
    "\n",
    "print (\"Rovaniemi May data \\n Mean is:\", rovaniemi_may['TEMP'].mean(),\n",
    "       \"\\n Min is: \", rovaniemi_may['TEMP'].min(), \"\\n Max is: \", rovaniemi_may['TEMP'].max())"
   ]
  },
  {
   "cell_type": "code",
   "execution_count": 112,
   "id": "3c8e0257-81ad-42d4-b984-4185612855f6",
   "metadata": {},
   "outputs": [
    {
     "name": "stdout",
     "output_type": "stream",
     "text": [
      "Kumpula June data \n",
      " Mean is: 57.61 \n",
      " Min is:  44 \n",
      " Max is:  70\n"
     ]
    }
   ],
   "source": [
    "kumpula_june = kumpula.loc[(kumpula[\"YR--MODAHRMN\"] > 201706010000) & (kumpula[\"YR--MODAHRMN\"] < 201706310000)]\n",
    "\n",
    "print (\"Kumpula June data \\n Mean is:\", \"%.2f\" % kumpula_june['TEMP'].mean(),\n",
    "       \"\\n Min is: \", kumpula_june['TEMP'].min(), \"\\n Max is: \", kumpula_june['TEMP'].max())"
   ]
  },
  {
   "cell_type": "code",
   "execution_count": 113,
   "id": "27e9791f-c6d6-4dd0-81bf-45f886b42d4e",
   "metadata": {},
   "outputs": [
    {
     "name": "stdout",
     "output_type": "stream",
     "text": [
      "Rovaniemi June data \n",
      " Mean is: 52.97 \n",
      " Min is:  34 \n",
      " Max is:  71\n"
     ]
    }
   ],
   "source": [
    "rovaniemi_june = rovaniemi.loc[(rovaniemi[\"YR--MODAHRMN\"] > 201706010000) & (rovaniemi[\"YR--MODAHRMN\"] < 201706310000)]\n",
    "\n",
    "print (\"Rovaniemi June data \\n Mean is:\", \"%.2f\" % rovaniemi_june['TEMP'].mean(),\n",
    "       \"\\n Min is: \", rovaniemi_june['TEMP'].min(), \"\\n Max is: \", rovaniemi_june['TEMP'].max())"
   ]
  },
  {
   "cell_type": "markdown",
   "id": "519b40e2-4546-4b25-b9d4-96cc2570737b",
   "metadata": {},
   "source": [
    "Part 2 Summary:\n",
    "* Average temperatures for Rovaniemi are colder for May and June, compared to Kumpula\n",
    "* Rovaniemi is generally colder, with colder average temperatures and lower min temperatures."
   ]
  },
  {
   "cell_type": "markdown",
   "id": "042f7c98-edee-482d-9117-852231801d21",
   "metadata": {},
   "source": [
    "Part 3"
   ]
  },
  {
   "cell_type": "code",
   "execution_count": null,
   "id": "891b7b03-eff8-490e-972b-af1045382bf1",
   "metadata": {},
   "outputs": [],
   "source": []
  }
 ],
 "metadata": {
  "kernelspec": {
   "display_name": "Python 3 (ipykernel)",
   "language": "python",
   "name": "python3"
  },
  "language_info": {
   "codemirror_mode": {
    "name": "ipython",
    "version": 3
   },
   "file_extension": ".py",
   "mimetype": "text/x-python",
   "name": "python",
   "nbconvert_exporter": "python",
   "pygments_lexer": "ipython3",
   "version": "3.9.15"
  },
  "toc-autonumbering": false,
  "toc-showcode": false,
  "toc-showmarkdowntxt": false
 },
 "nbformat": 4,
 "nbformat_minor": 5
}
