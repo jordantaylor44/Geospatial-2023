{
 "cells": [
  {
   "cell_type": "markdown",
   "id": "3866943c-2842-4efa-b510-8f4fc34615ee",
   "metadata": {
    "jp-MarkdownHeadingCollapsed": true,
    "tags": []
   },
   "source": [
    "# Jordan Taylor"
   ]
  },
  {
   "cell_type": "markdown",
   "id": "0c35c17c-b390-4dfa-b3b1-fac829b17220",
   "metadata": {
    "tags": []
   },
   "source": [
    "# Problem 2.1"
   ]
  },
  {
   "cell_type": "code",
   "execution_count": 22,
   "id": "930a9917-1866-4f9e-bd1a-a802c9a29919",
   "metadata": {},
   "outputs": [
    {
     "data": {
      "text/plain": [
       "8.5"
      ]
     },
     "execution_count": 22,
     "metadata": {},
     "output_type": "execute_result"
    }
   ],
   "source": [
    "icecream_rating = 9\n",
    "sleeping_rating = 8\n",
    "firstname = 'Jordan'\n",
    "\n",
    "happiness = ((icecream_rating + sleeping_rating) / 2)\n",
    "happiness"
   ]
  },
  {
   "cell_type": "code",
   "execution_count": 17,
   "id": "40aaf198-2b8c-4aa2-b980-87a14cf5f3e8",
   "metadata": {},
   "outputs": [
    {
     "data": {
      "text/plain": [
       "int"
      ]
     },
     "execution_count": 17,
     "metadata": {},
     "output_type": "execute_result"
    }
   ],
   "source": [
    "type(icecream_rating)"
   ]
  },
  {
   "cell_type": "code",
   "execution_count": 18,
   "id": "f9ea08ec-86d4-467d-9b8a-3c038d408dc8",
   "metadata": {},
   "outputs": [
    {
     "data": {
      "text/plain": [
       "int"
      ]
     },
     "execution_count": 18,
     "metadata": {},
     "output_type": "execute_result"
    }
   ],
   "source": [
    "type(sleeping_rating)"
   ]
  },
  {
   "cell_type": "code",
   "execution_count": 21,
   "id": "f32995ef-f2a4-4844-8f22-f0d12826379e",
   "metadata": {},
   "outputs": [
    {
     "data": {
      "text/plain": [
       "float"
      ]
     },
     "execution_count": 21,
     "metadata": {},
     "output_type": "execute_result"
    }
   ],
   "source": [
    "type(happiness)"
   ]
  },
  {
   "cell_type": "code",
   "execution_count": 37,
   "id": "25a39a6f-e228-4c2a-8533-120b0d081d63",
   "metadata": {},
   "outputs": [
    {
     "name": "stdout",
     "output_type": "stream",
     "text": [
      "My name is Jordan and I give eating ice cream a score of 9 out of 10!\n",
      "My sleeping enjoyment rating is 8 / 10!\n",
      "Based on the factors above, my happiness rating is 8.5 out of 10 or 85.0 %!\n"
     ]
    }
   ],
   "source": [
    "print('My name is', first_name, \n",
    "      'and I give eating ice cream a score of', icecream_rating, 'out of 10!')\n",
    "print('My sleeping enjoyment rating is', sleeping_rating, '/ 10!')\n",
    "print('Based on the factors above, my happiness rating is', happiness, 'out of 10 or',\n",
    "      happiness*10, '%!')"
   ]
  },
  {
   "cell_type": "markdown",
   "id": "b310fe42-56c5-4904-884f-14b61d1e4917",
   "metadata": {},
   "source": [
    "# Problem 2.2"
   ]
  },
  {
   "cell_type": "code",
   "execution_count": 78,
   "id": "442c1881-e438-4a80-9338-417d92f31b2e",
   "metadata": {},
   "outputs": [],
   "source": [
    "fmi_station_name = [\"lighthouse\",\n",
    "                    \"Harmaja\",\n",
    "                    \"Suomenlinna aatlopoiju\",\n",
    "                    \"Kumpula\",\n",
    "                    \"Kaisaniemi\"\n",
    "                   ]\n",
    "\n",
    "first_year = [\"2003\", \"1989\", \"2016\", \"2005\", \"1844\"]"
   ]
  },
  {
   "cell_type": "code",
   "execution_count": 80,
   "id": "958d5b11-fe96-439a-b529-158fc49e7109",
   "metadata": {},
   "outputs": [],
   "source": [
    "fmi_station_name.append('Malmi airfield')\n",
    "fmi_station_name.append('Vuosaari harbour')\n",
    "fmi_station_name.append('Kaivopuisto')\n",
    "\n",
    "first_year.append('1937')\n",
    "first_year.append('2012')\n",
    "first_year.append('1904')"
   ]
  },
  {
   "cell_type": "code",
   "execution_count": 81,
   "id": "ffb039a6-3b6b-45a5-baad-b833ef07bcb2",
   "metadata": {},
   "outputs": [
    {
     "data": {
      "text/plain": [
       "['lighthouse',\n",
       " 'Harmaja',\n",
       " 'Suomenlinna aatlopoiju',\n",
       " 'Kumpula',\n",
       " 'Kaisaniemi',\n",
       " 'Malmi airfield',\n",
       " 'Vuosaari harbour',\n",
       " 'Kaivopuisto']"
      ]
     },
     "execution_count": 81,
     "metadata": {},
     "output_type": "execute_result"
    }
   ],
   "source": [
    "fmi_station_name"
   ]
  },
  {
   "cell_type": "code",
   "execution_count": 82,
   "id": "9aa8a088-9f49-4671-bc94-fc371dcd27b6",
   "metadata": {},
   "outputs": [
    {
     "data": {
      "text/plain": [
       "['2003', '1989', '2016', '2005', '1844', '1937', '2012', '1904']"
      ]
     },
     "execution_count": 82,
     "metadata": {},
     "output_type": "execute_result"
    }
   ],
   "source": [
    "first_year"
   ]
  },
  {
   "cell_type": "code",
   "execution_count": 99,
   "id": "5a309111-986a-460c-9c32-102857ffd855",
   "metadata": {},
   "outputs": [
    {
     "data": {
      "text/plain": [
       "[('lighthouse', '2003'),\n",
       " ('Harmaja', '1989'),\n",
       " ('Suomenlinna aatlopoiju', '2016'),\n",
       " ('Kumpula', '2005'),\n",
       " ('Kaisaniemi', '1844'),\n",
       " ('Malmi airfield', '1937'),\n",
       " ('Vuosaari harbour', '2012'),\n",
       " ('Kaivopuisto', '1904')]"
      ]
     },
     "execution_count": 99,
     "metadata": {},
     "output_type": "execute_result"
    }
   ],
   "source": [
    "# using zip() to group the fmi station name and first year of operation columns\n",
    "# and sort in parallel (link below)\n",
    "# https://realpython.com/python-zip-function/#sorting-in-parallel\n",
    "\n",
    "group1 = (zip(fmi_station_name, first_year))\n",
    "\n",
    "list(group1)"
   ]
  },
  {
   "cell_type": "code",
   "execution_count": 106,
   "id": "219d52ef-f064-49b4-ad03-f1c5e5fe192a",
   "metadata": {},
   "outputs": [
    {
     "data": {
      "text/plain": [
       "[('1844', 'Kaisaniemi'),\n",
       " ('1904', 'Kaivopuisto'),\n",
       " ('1937', 'Malmi airfield'),\n",
       " ('1989', 'Harmaja'),\n",
       " ('2003', 'lighthouse'),\n",
       " ('2005', 'Kumpula'),\n",
       " ('2012', 'Vuosaari harbour'),\n",
       " ('2016', 'Suomenlinna aatlopoiju')]"
      ]
     },
     "execution_count": 106,
     "metadata": {},
     "output_type": "execute_result"
    }
   ],
   "source": [
    "# properly sorted by year\n",
    "group1 = sorted(zip(first_year, fmi_station_name))\n",
    "group1"
   ]
  },
  {
   "cell_type": "markdown",
   "id": "19ee2f5d-c62c-4e8d-b992-b1630e48b0fd",
   "metadata": {},
   "source": [
    "# Problem 2.3"
   ]
  },
  {
   "cell_type": "code",
   "execution_count": 116,
   "id": "0339dfbf-9eae-49d1-88c2-f53eeffd746f",
   "metadata": {},
   "outputs": [],
   "source": [
    "month = [\"January\",\n",
    "         \"February\",\n",
    "         \"March\",\n",
    "         \"April\",\n",
    "         \"May\",\n",
    "         \"June\",\n",
    "         \"July\",\n",
    "         \"August\",\n",
    "         \"September\",\n",
    "         \"October\",\n",
    "         \"November\",\n",
    "         \"December\"\n",
    "        ]\n",
    "\n",
    "temperature = [\"-3.5\",\n",
    "               \"-4.5\",\n",
    "               \"-1.0\",\n",
    "               \"4.0\",\n",
    "               \"10.0\",\n",
    "               \"15.0\",\n",
    "               \"18.0\",\n",
    "               \"16.0\",\n",
    "               \"11.5\",\n",
    "               \"6.0\",\n",
    "               \"2.0\",\n",
    "               \"-1.5\"\n",
    "              ]"
   ]
  },
  {
   "cell_type": "code",
   "execution_count": 117,
   "id": "bbcaded1-f40e-4f91-8ae9-f9b9b2b42598",
   "metadata": {},
   "outputs": [
    {
     "name": "stdout",
     "output_type": "stream",
     "text": [
      "The average temperature in Helsinki in March is -1.0\n"
     ]
    }
   ],
   "source": [
    "print('The average temperature in Helsinki in', month[2],\n",
    "      'is', temperature[2])"
   ]
  },
  {
   "cell_type": "markdown",
   "id": "a986d357-123e-46ed-9a46-d7c7847e26ff",
   "metadata": {},
   "source": [
    "# Problem 2.4"
   ]
  },
  {
   "cell_type": "code",
   "execution_count": 5,
   "id": "e598181d-a8c5-4121-821f-4cb5b835e9d0",
   "metadata": {},
   "outputs": [],
   "source": [
    "station_numbers = []"
   ]
  },
  {
   "cell_type": "code",
   "execution_count": 8,
   "id": "ccda383d-ee51-4185-bb3d-48aa901716c0",
   "metadata": {},
   "outputs": [
    {
     "name": "stdout",
     "output_type": "stream",
     "text": [
      "['Station_0.txt', 'Station_1.txt', 'Station_2.txt', 'Station_3.txt', 'Station_4.txt', 'Station_5.txt', 'Station_6.txt', 'Station_7.txt', 'Station_8.txt', 'Station_9.txt', 'Station_10.txt', 'Station_11.txt', 'Station_12.txt', 'Station_13.txt', 'Station_14.txt', 'Station_15.txt', 'Station_16.txt', 'Station_17.txt', 'Station_18.txt', 'Station_19.txt', 'Station_20.txt', 'Station_21.txt', 'Station_0.txt', 'Station_1.txt', 'Station_2.txt', 'Station_3.txt', 'Station_4.txt', 'Station_5.txt', 'Station_6.txt', 'Station_7.txt', 'Station_8.txt', 'Station_9.txt', 'Station_10.txt', 'Station_11.txt', 'Station_12.txt', 'Station_13.txt', 'Station_14.txt', 'Station_15.txt', 'Station_16.txt', 'Station_17.txt', 'Station_18.txt', 'Station_19.txt', 'Station_20.txt', 'Station_21.txt', 'Station_0.txt', 'Station_1.txt', 'Station_2.txt', 'Station_3.txt', 'Station_4.txt', 'Station_5.txt', 'Station_6.txt', 'Station_7.txt', 'Station_8.txt', 'Station_9.txt', 'Station_10.txt', 'Station_11.txt', 'Station_12.txt', 'Station_13.txt', 'Station_14.txt', 'Station_15.txt', 'Station_16.txt', 'Station_17.txt', 'Station_18.txt', 'Station_19.txt', 'Station_20.txt', 'Station_21.txt']\n"
     ]
    }
   ],
   "source": [
    "for i in range(0,22,1):\n",
    "    station_number=f\"Station_{i}.txt\"\n",
    "    station_numbers.append(station_number)\n",
    "print(station_numbers)\n",
    "    "
   ]
  },
  {
   "cell_type": "markdown",
   "id": "1582bab8-f755-4524-b03c-8866e11dfad5",
   "metadata": {},
   "source": [
    "# Problem 2.5"
   ]
  },
  {
   "cell_type": "code",
   "execution_count": 154,
   "id": "f1688dee-c1ae-4535-8c94-4e15506994ea",
   "metadata": {},
   "outputs": [],
   "source": [
    "templist = [-5.4, 1.0, -1.3, -4.8, 3.9, 0.1, -4.4, 4.0, -2.2, -3.9, 4.4,\n",
    "                -2.5, -4.6, 5.1, 2.1, -2.4, 1.9, -3.3, -4.8, 1.0, -0.8, -2.8,\n",
    "                -0.1, -4.7, -5.6, 2.6, -2.7, -4.6, 3.4, -0.4, -0.9, 3.1, 2.4,\n",
    "                1.6, 4.2, 3.5, 2.6, 3.1, 2.2, 1.8, 3.3, 1.6, 1.5, 4.7, 4.0,\n",
    "                3.6, 4.9, 4.8, 5.3, 5.6, 4.1, 3.7, 7.6, 6.9, 5.1, 6.4, 3.8,\n",
    "                4.0, 8.6, 4.1, 1.4, 8.9, 3.0, 1.6, 8.5, 4.7, 6.6, 8.1, 4.5,\n",
    "                4.8, 11.3, 4.7, 5.2, 11.5, 6.2, 2.9, 4.3, 2.8, 2.8, 6.3, 2.6,\n",
    "                -0.0, 7.3, 3.4, 4.7, 9.3, 6.4, 5.4, 7.6, 5.2]"
   ]
  },
  {
   "cell_type": "code",
   "execution_count": 162,
   "id": "a2d69e8e-91c3-43eb-9917-61119e1bd12f",
   "metadata": {},
   "outputs": [],
   "source": [
    "cold = []\n",
    "slippery = []\n",
    "comfortable = []\n",
    "warm = []"
   ]
  },
  {
   "cell_type": "code",
   "execution_count": 166,
   "id": "e84433a2-2739-4e3d-8e52-ac88bffc578b",
   "metadata": {},
   "outputs": [
    {
     "name": "stdout",
     "output_type": "stream",
     "text": [
      "-5.4 = cold\n",
      "1.0 = slippery\n",
      "-1.3 = slippery\n",
      "-4.8 = cold\n",
      "3.9 = comfortable\n",
      "0.1 = slippery\n",
      "-4.4 = cold\n",
      "4.0 = comfortable\n",
      "-2.2 = cold\n",
      "-3.9 = cold\n",
      "4.4 = comfortable\n",
      "-2.5 = cold\n",
      "-4.6 = cold\n",
      "5.1 = comfortable\n",
      "2.1 = comfortable\n",
      "-2.4 = cold\n",
      "1.9 = slippery\n",
      "-3.3 = cold\n",
      "-4.8 = cold\n",
      "1.0 = slippery\n",
      "-0.8 = slippery\n",
      "-2.8 = cold\n",
      "-0.1 = slippery\n",
      "-4.7 = cold\n",
      "-5.6 = cold\n",
      "2.6 = comfortable\n",
      "-2.7 = cold\n",
      "-4.6 = cold\n",
      "3.4 = comfortable\n",
      "-0.4 = slippery\n",
      "-0.9 = slippery\n",
      "3.1 = comfortable\n",
      "2.4 = comfortable\n",
      "1.6 = slippery\n",
      "4.2 = comfortable\n",
      "3.5 = comfortable\n",
      "2.6 = comfortable\n",
      "3.1 = comfortable\n",
      "2.2 = comfortable\n",
      "1.8 = slippery\n",
      "3.3 = comfortable\n",
      "1.6 = slippery\n",
      "1.5 = slippery\n",
      "4.7 = comfortable\n",
      "4.0 = comfortable\n",
      "3.6 = comfortable\n",
      "4.9 = comfortable\n",
      "4.8 = comfortable\n",
      "5.3 = comfortable\n",
      "5.6 = comfortable\n",
      "4.1 = comfortable\n",
      "3.7 = comfortable\n",
      "7.6 = comfortable\n",
      "6.9 = comfortable\n",
      "5.1 = comfortable\n",
      "6.4 = comfortable\n",
      "3.8 = comfortable\n",
      "4.0 = comfortable\n",
      "8.6 = comfortable\n",
      "4.1 = comfortable\n",
      "1.4 = slippery\n",
      "8.9 = comfortable\n",
      "3.0 = comfortable\n",
      "1.6 = slippery\n",
      "8.5 = comfortable\n",
      "4.7 = comfortable\n",
      "6.6 = comfortable\n",
      "8.1 = comfortable\n",
      "4.5 = comfortable\n",
      "4.8 = comfortable\n",
      "11.3 = comfortable\n",
      "4.7 = comfortable\n",
      "5.2 = comfortable\n",
      "11.5 = comfortable\n",
      "6.2 = comfortable\n",
      "2.9 = comfortable\n",
      "4.3 = comfortable\n",
      "2.8 = comfortable\n",
      "2.8 = comfortable\n",
      "6.3 = comfortable\n",
      "2.6 = comfortable\n",
      "-0.0 = slippery\n",
      "7.3 = comfortable\n",
      "3.4 = comfortable\n",
      "4.7 = comfortable\n",
      "9.3 = comfortable\n",
      "6.4 = comfortable\n",
      "5.4 = comfortable\n",
      "7.6 = comfortable\n",
      "5.2 = comfortable\n"
     ]
    }
   ],
   "source": [
    "# how can I add counts to each if statement using the empty lists above?\n",
    "# instead of manually counting?\n",
    "\n",
    "for temp in templist:\n",
    "    if temp < -2:\n",
    "        print(temp, '= cold')\n",
    "    elif temp >= -2 and temp < 2:\n",
    "        print(temp, '= slippery')\n",
    "    elif temp >= 2 and temp < 15:\n",
    "        print(temp, '= comfortable')\n",
    "    else:\n",
    "        print(temp, '= warm')"
   ]
  },
  {
   "cell_type": "markdown",
   "id": "6b389ba2-ba92-44b8-8696-19ca611057fe",
   "metadata": {},
   "source": [
    "**Answers:**\n",
    "\n",
    "Cold = 15 days\n",
    "\n",
    "Comfortable = 59 days\n",
    "\n",
    "Warm = 0 days"
   ]
  },
  {
   "cell_type": "markdown",
   "id": "8cba57c2-37df-4504-b41a-ec9993766b06",
   "metadata": {},
   "source": [
    "# Problem 2.6"
   ]
  },
  {
   "cell_type": "code",
   "execution_count": 182,
   "id": "83005165-b416-48c5-a512-cea0b4351925",
   "metadata": {},
   "outputs": [
    {
     "data": {
      "text/plain": [
       "0.0"
      ]
     },
     "execution_count": 182,
     "metadata": {},
     "output_type": "execute_result"
    }
   ],
   "source": [
    "temp_f = 32\n",
    "temp_celsius = (temp_f - 32) * (5/9)\n",
    "temp_celsius"
   ]
  },
  {
   "cell_type": "code",
   "execution_count": 183,
   "id": "b38a786e-5ab3-4ce6-8197-6698f642facd",
   "metadata": {},
   "outputs": [
    {
     "data": {
      "text/plain": [
       "20.0"
      ]
     },
     "execution_count": 183,
     "metadata": {},
     "output_type": "execute_result"
    }
   ],
   "source": [
    "temp_f = 68\n",
    "temp_celsius = (temp_f - 32) * (5/9)\n",
    "temp_celsius"
   ]
  },
  {
   "cell_type": "code",
   "execution_count": 184,
   "id": "6bf9941c-d036-45b9-92f7-6e762f8f4f3e",
   "metadata": {},
   "outputs": [
    {
     "data": {
      "text/plain": [
       "32.77777777777778"
      ]
     },
     "execution_count": 184,
     "metadata": {},
     "output_type": "execute_result"
    }
   ],
   "source": [
    "temp_f = 91\n",
    "temp_celsius = (temp_f - 32) * (5/9)\n",
    "temp_celsius"
   ]
  },
  {
   "cell_type": "code",
   "execution_count": 191,
   "id": "43cca24b-bc3e-49b5-b706-9b69b3f67a09",
   "metadata": {},
   "outputs": [
    {
     "data": {
      "text/plain": [
       "-27.222222222222225"
      ]
     },
     "execution_count": 191,
     "metadata": {},
     "output_type": "execute_result"
    }
   ],
   "source": [
    "temp_f = -17\n",
    "temp_celsius = (temp_f - 32) * (5/9)\n",
    "temp_celsius"
   ]
  },
  {
   "cell_type": "markdown",
   "id": "a19ae348-550a-4be6-a3c1-c9954fe7eeee",
   "metadata": {},
   "source": [
    "# Problem 2.7"
   ]
  },
  {
   "cell_type": "code",
   "execution_count": 215,
   "id": "e22e96a8-8be2-481b-96ea-ad2fe1cd8164",
   "metadata": {},
   "outputs": [
    {
     "name": "stdout",
     "output_type": "stream",
     "text": [
      "3\n",
      "2\n",
      "1\n",
      "1\n"
     ]
    }
   ],
   "source": [
    "temp_list2 = [17, 2, 1.9, -2]\n",
    "\n",
    "for temp in temp_list2:\n",
    "    if temp < -2:\n",
    "        print(0)\n",
    "    elif temp >= -2 and temp < 2:\n",
    "        print(1)\n",
    "    elif temp >= 2 and temp < 15:\n",
    "        print(2)\n",
    "    else:\n",
    "        print(3)"
   ]
  }
 ],
 "metadata": {
  "kernelspec": {
   "display_name": "Python 3 (ipykernel)",
   "language": "python",
   "name": "python3"
  },
  "language_info": {
   "codemirror_mode": {
    "name": "ipython",
    "version": 3
   },
   "file_extension": ".py",
   "mimetype": "text/x-python",
   "name": "python",
   "nbconvert_exporter": "python",
   "pygments_lexer": "ipython3",
   "version": "3.9.15"
  },
  "toc-autonumbering": false,
  "toc-showcode": false,
  "toc-showmarkdowntxt": false
 },
 "nbformat": 4,
 "nbformat_minor": 5
}
